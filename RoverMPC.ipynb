{
 "cells": [
  {
   "cell_type": "markdown",
   "metadata": {},
   "source": [
    "# System Dynamics\n",
    "Parameters:\n",
    "\n",
    "- $ r $: Radius of the wheels\n",
    "- $ L $: Distance from the center of mass to each wheel (half the body width)\n",
    "\n",
    "State Variables:\n",
    "\n",
    "- $ x $: $ x $-position of the rover's center of mass\n",
    "- $ y $: $ y $-position of the rover's center of mass\n",
    "- $ \\psi $: Absolute heading angle of the rover (orientation of the body)\n",
    "- $ \\phi_L $: Absolute angle of rotation of the left wheel\n",
    "- $ \\phi_R $: Absolute angle of rotation of the right wheel\n",
    "\n",
    "Inputs:\n",
    "\n",
    "- $ \\dot{\\phi}_L $: Angular velocity of the left wheel\n",
    "- $ \\dot{\\phi}_R $: Angular velocity of the right wheel\n",
    "\n",
    "The system of differential equations describing the rover is:\n",
    "$$\n",
    "\\begin{align}\n",
    "\\dot{x} &= \\frac{r}{2} (\\dot{\\phi}_R + \\dot{\\phi}_L) \\cos(\\psi) \\\\\n",
    "\\dot{y} &= \\frac{r}{2} (\\dot{\\phi}_R + \\dot{\\phi}_L) \\sin(\\psi) \\\\\n",
    "\\dot{\\psi} &= \\frac{r}{L} (\\dot{\\phi}_R - \\dot{\\phi}_L) \\\\\n",
    "\\dot{\\phi}_L &= u_L \\\\\n",
    "\\dot{\\phi}_R &= u_R\n",
    "\\end{align}\n",
    "$$\n",
    "\n",
    "We can see that the current state of the system does not directly change the system (0 input = no movement), so $A = 0, \\dot{z} = Bu$.  In matrix form, this is:\n",
    "$$\n",
    "z = \\begin{bmatrix}\n",
    "            x \\\\\n",
    "            y \\\\\n",
    "            \\psi \\\\\n",
    "            \\phi_L \\\\\n",
    "            \\phi_R\n",
    "        \\end{bmatrix}, \n",
    "u = \\begin{bmatrix}\n",
    "        u_L \\\\\n",
    "        u_R\n",
    "    \\end{bmatrix}\n",
    "$$\n",
    "$$ \n",
    "\\dot{z} = B(\\psi)u \\\\\n",
    "A = 0, B = \\begin{bmatrix}\n",
    "            \\frac{r}{2} \\cos(\\psi) & \\frac{r}{2} \\cos(\\psi) \\\\\n",
    "            \\frac{r}{2} \\sin(\\psi) & \\frac{r}{2} \\sin(\\psi) \\\\\n",
    "            -\\frac{r}{L} & \\frac{r}{L} \\\\\n",
    "            1 & 0 \\\\\n",
    "            0 & 1\n",
    "            \\end{bmatrix}\n",
    "$$\n"
   ]
  },
  {
   "cell_type": "code",
   "execution_count": null,
   "metadata": {},
   "outputs": [],
   "source": []
  },
  {
   "cell_type": "markdown",
   "metadata": {},
   "source": []
  }
 ],
 "metadata": {
  "kernelspec": {
   "display_name": ".venv",
   "language": "python",
   "name": "python3"
  },
  "language_info": {
   "name": "python",
   "version": "3.11.1"
  }
 },
 "nbformat": 4,
 "nbformat_minor": 2
}
